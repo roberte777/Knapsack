{
 "cells": [
  {
   "cell_type": "code",
   "execution_count": 12,
   "metadata": {},
   "outputs": [],
   "source": [
    "from typing import List, Tuple\n",
    "from random import choices, randint, randrange, random\n",
    "from collections import namedtuple\n",
    "Genome = List[int]\n",
    "Population = List[Genome]\n",
    "Thing = namedtuple('Thing', ['name', 'value', 'weight'])\n",
    "\n",
    "things = [Thing('Laptop', 500, 2200),Thing('headphones',150, 160),Thing('Coffee Mug', 60, 350), Thing('Notepad', 40, 333), Thing('Water Bottle', 30, 192)]\n",
    "\n",
    "def generate_genome(length: int) -> Genome:\n",
    "    return choices([0,1], k=length) #generate random list of 1's and 0's of the appropriate length (k)\n",
    "def generate_population(size:int, genome_length: int) -> Population:\n",
    "    return [generate_genome(genome_length) for _ in range(size)]\n",
    "def fitness(genome: Genome, things: [Thing], weight_limit: int ) -> int:\n",
    "    if len(genome) != len(things):\n",
    "        raise ValueError('Genome and things must be of the same length')\n",
    "    weight = 0\n",
    "    value = 0 \n",
    "    for i, thing in enumerate(things):\n",
    "        if genome[i] == 1:\n",
    "            weight += thing.weight\n",
    "            value += thing.value\n",
    "\n",
    "            if weight > weight_limit: #if weight is greater than the limit, it should return 0\n",
    "                return 0 \n",
    "    return value\n",
    "\n",
    "def selection_pair(population: Population, fitness_func) -> Population:\n",
    "    return choices(\n",
    "        population=population,\n",
    "        weights=[fitness_func(genome) for genome in population],\n",
    "        k=2 #tells the function to draw twice, getting a pair\n",
    "    )\n",
    "\n",
    "def single_point_crossover(a: Genome, b: Genome) -> Tuple[Genome, Genome]:\n",
    "    if len(a) != len(b):\n",
    "        raise ValueError('a and b need to be equal length')\n",
    "    length = len(a)\n",
    "    if length < 2:\n",
    "        return a,b\n",
    "    p = randint(1, length - 1 )\n",
    "    return a[0:p] + b[p:], b[0:p] + a[p:]\n",
    "\n",
    "#flips bits if random num less than probability \n",
    "def mutation(genome: Genome, num: int = 1, probability: float = 0.5) -> Genome:\n",
    "    for _ in range(num):\n",
    "        index = randrange(len(genome))\n",
    "        genome[index] = genome[index] if randome() > probability else abs(genome[index] - 1)\n",
    "    return genome"
   ]
  },
  {
   "cell_type": "code",
   "execution_count": null,
   "metadata": {},
   "outputs": [],
   "source": [
    "def run_evolution(populate_func,fitness_func, fitness_limit: int, selection_func, crossover_func, mutation_func, generation_limit: int = 100) -> Tuple[Population,int]:\n",
    "    "
   ]
  }
 ],
 "metadata": {
  "interpreter": {
   "hash": "bdb1f293a72cda3337025d9d00554afb1343cd7218118617db03a8cb5103ebd2"
  },
  "kernelspec": {
   "display_name": "Python 3.9.7 64-bit ('base': conda)",
   "language": "python",
   "name": "python3"
  },
  "language_info": {
   "codemirror_mode": {
    "name": "ipython",
    "version": 3
   },
   "file_extension": ".py",
   "mimetype": "text/x-python",
   "name": "python",
   "nbconvert_exporter": "python",
   "pygments_lexer": "ipython3",
   "version": "3.8.8"
  },
  "orig_nbformat": 4
 },
 "nbformat": 4,
 "nbformat_minor": 2
}
